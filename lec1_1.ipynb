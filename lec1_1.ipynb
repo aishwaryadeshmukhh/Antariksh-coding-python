{
 "cells": [
  {
   "cell_type": "code",
   "execution_count": 1,
   "metadata": {},
   "outputs": [
    {
     "name": "stdout",
     "output_type": "stream",
     "text": [
      "16\n",
      "-2\n",
      "63\n",
      "0.7777777777777778\n",
      "0\n",
      "7\n",
      "9.0\n",
      "11\n",
      "6\n"
     ]
    }
   ],
   "source": [
    "#operators and their functions\n",
    "\n",
    "x=7\n",
    "y=9\n",
    "\n",
    "print(x+y)\n",
    "print(x-y)\n",
    "print(x*y)\n",
    "print(x/y)\n",
    "print(x//y)\n",
    "print(x%y)\n",
    "\n",
    "print(x+y-(x/y)*y)  #follows BODMAS\n",
    "\n",
    "x+=4     #x=x+4\n",
    "print(x)\n",
    "x-=5     #x=x-5\n",
    "print(x)\n",
    "\n"
   ]
  },
  {
   "cell_type": "code",
   "execution_count": 6,
   "metadata": {},
   "outputs": [
    {
     "name": "stdout",
     "output_type": "stream",
     "text": [
      "2\n",
      "3\n",
      "4\n",
      "5\n",
      "6\n",
      "Jody\n",
      "Abe\n",
      "Abhishek\n",
      "Kim\n",
      "Taylor\n",
      "Jen\n",
      "1\n",
      "2\n",
      "3\n",
      "4\n",
      "5\n"
     ]
    }
   ],
   "source": [
    "\n",
    "\n",
    "#FOR LOOPS\n",
    "\n",
    "nums = [1, 2, 3, 4, 5]\n",
    " \n",
    "for num in nums:        #for loop is iterating over the list nums\n",
    "  print(num + 1)\n",
    "\n",
    "\n",
    "teams = [['Jody', 'Abe'], ['Abhishek', 'Kim'], ['Taylor', 'Jen']]       #nested for loops\n",
    "for team in teams:\n",
    "  for name in team:\n",
    "    print(name)\n",
    "\n",
    "\n",
    "#while loops\n",
    "i = 1\n",
    "while i < 6:\n",
    "  print(i)\n",
    "  i += 1\n"
   ]
  },
  {
   "cell_type": "code",
   "execution_count": 5,
   "metadata": {},
   "outputs": [
    {
     "name": "stdout",
     "output_type": "stream",
     "text": [
      "Grade is not A\n",
      "Grade B\n"
     ]
    }
   ],
   "source": [
    "#if, elif statements\n",
    "\n",
    "score = 90\n",
    "if(score>90):\n",
    "    print('Grade A')\n",
    "else:\n",
    "    print('Grade is not A')\n",
    "\n",
    "#if else use is demonstrated above\n",
    "\n",
    "if(score>90):\n",
    "    print('Grade A')\n",
    "elif(score>80):\n",
    "    print('Grade B')\n",
    "\n",
    "#elif use demonstrated"
   ]
  },
  {
   "cell_type": "code",
   "execution_count": 4,
   "metadata": {},
   "outputs": [
    {
     "name": "stdout",
     "output_type": "stream",
     "text": [
      "True\n",
      "True\n",
      "False\n",
      "True\n",
      "True\n"
     ]
    }
   ],
   "source": [
    "a=4\n",
    "b=3\n",
    "c=4\n",
    "\n",
    "print(a==c)        #returns true\n",
    "print(b!=c)        #returns true\n",
    "print(b>=c)        #returns false\n",
    "print(c>=b)        #returns true\n",
    "\n",
    "print(a==c and c>b)     #returns true, 'and' operator used"
   ]
  }
 ],
 "metadata": {
  "kernelspec": {
   "display_name": "Python 3",
   "language": "python",
   "name": "python3"
  },
  "language_info": {
   "codemirror_mode": {
    "name": "ipython",
    "version": 3
   },
   "file_extension": ".py",
   "mimetype": "text/x-python",
   "name": "python",
   "nbconvert_exporter": "python",
   "pygments_lexer": "ipython3",
   "version": "3.12.4"
  }
 },
 "nbformat": 4,
 "nbformat_minor": 2
}
