{
 "cells": [
  {
   "cell_type": "code",
   "execution_count": 2,
   "metadata": {},
   "outputs": [
    {
     "name": "stdout",
     "output_type": "stream",
     "text": [
      "Hello!\n"
     ]
    }
   ],
   "source": [
    "def func_1():\n",
    "        print(\"Hello!\")\n",
    "func_1()                        #function call"
   ]
  },
  {
   "cell_type": "code",
   "execution_count": 5,
   "metadata": {},
   "outputs": [
    {
     "name": "stdout",
     "output_type": "stream",
     "text": [
      "11\n",
      "Rheahi\n"
     ]
    }
   ],
   "source": [
    "def func_2(a,b):\n",
    "    print(a+b)\n",
    "func_2(9,2)                 #function call w parameters\n",
    "\n",
    "#def func_3(a,b):\n",
    " #   print(a+\", \"+b)\n",
    "func_2(\"Rhea\",\"hi\")         "
   ]
  },
  {
   "cell_type": "code",
   "execution_count": 5,
   "metadata": {},
   "outputs": [
    {
     "name": "stdout",
     "output_type": "stream",
     "text": [
      "Hello, World!\n",
      "Hello, Alice!\n"
     ]
    }
   ],
   "source": [
    "#Method overloading\n",
    "class Example:\n",
    "    def func_1(self, name=\"Aish\"):\n",
    "        print(f\"okay, {name}.\")\n",
    "\n",
    "obj1 = Example()\n",
    "obj1.func_1()           #no parameter passed so it uses value assigned in parameter         \n",
    "obj1.func_1(\"Arash\")    #assigns Alice to name"
   ]
  },
  {
   "cell_type": "code",
   "execution_count": null,
   "metadata": {},
   "outputs": [],
   "source": []
  },
  {
   "cell_type": "code",
   "execution_count": 2,
   "metadata": {},
   "outputs": [
    {
     "name": "stdout",
     "output_type": "stream",
     "text": [
      "okay\n",
      "okay, Arash.\n",
      "okay, Arash and Sia.\n"
     ]
    }
   ],
   "source": [
    "#Method overloading 2\n",
    "def func_2(*args):\n",
    "    sum=0\n",
    "    i=0\n",
    "    for i in args:\n",
    "        sum+=i\n",
    "    print(sum)\n",
    "    \n",
    "#using previous example in a program\n",
    "class Example:\n",
    "    def func_3(self, *args):\n",
    "        if len(args) == 0:                                  #passing no arguments to method\n",
    "            print(\"okay\")                           \n",
    "        elif len(args) == 1:                                #passing 1 argument to method\n",
    "            print(f\"okay, {args[0]}.\")\n",
    "        elif len(args) == 2:                                #passing 2 arguments to method\n",
    "            print(f\"okay, {args[0]} and {args[1]}.\")\n",
    "\n",
    "obj1 = Example()\n",
    "obj1.func_3()                \n",
    "obj1.func_3(\"Arash\")         \n",
    "obj1.func_3(\"Arash\", \"Sia\") \n"
   ]
  },
  {
   "cell_type": "code",
   "execution_count": 4,
   "metadata": {},
   "outputs": [
    {
     "name": "stdout",
     "output_type": "stream",
     "text": [
      "i:  4\n",
      "j:  hello\n",
      "k:  True\n",
      "i:  8\n",
      "j:  Rhea\n",
      "k:  False\n"
     ]
    }
   ],
   "source": [
    "def func_4(**kwargs):\n",
    "    for key,value in kwargs.items():\n",
    "        print(key+\": \",value)\n",
    "func_4(i=\"4\",j=\"hello\",k=True)\n",
    "\n",
    "func_4(i='8',j=\"Rhea\",k=False)              #did not understand kwargs well, could only grasp this basic application\n",
    "\n",
    "def func_5(*args,**kwargs):                 #did not understand this application                \n"
   ]
  },
  {
   "cell_type": "code",
   "execution_count": 10,
   "metadata": {},
   "outputs": [
    {
     "name": "stdout",
     "output_type": "stream",
     "text": [
      "16\n",
      "Even numbers: [2, 4, 6, 8, 10]\n",
      "sum : 5\n",
      "Sorted list [('Dave', 78), ('John', 85), ('Sara', 89), ('Jane', 92)]\n"
     ]
    }
   ],
   "source": [
    "sq=lambda x:x**2\n",
    "print(sq(4))            #to calculate square\n",
    "\n",
    "\n",
    "numbers = [1, 2, 3, 4, 5, 6, 7, 8, 9, 10]\n",
    "even_numbers = list(filter(lambda x: x % 2 == 0, numbers))          #filters out the even numbers in the list\n",
    "print(\"Even numbers:\", even_numbers)\n",
    "\n",
    "add = lambda x, y: x + y\n",
    "result = add(2, 3)\n",
    "print(\"sum :\", result)\n",
    "\n",
    "\n",
    "students = [(\"John\", 85), (\"Jane\", 92), (\"Dave\", 78), (\"Sara\", 89)]\n",
    "sorted_students = sorted(students, key=lambda student: student[1])          #sorts the key part of the tuple, (sorted) function helps in sorting in ascending order\n",
    "\n",
    "print(\"Sorted list\", sorted_students)\n",
    "\n"
   ]
  },
  {
   "cell_type": "code",
   "execution_count": 16,
   "metadata": {},
   "outputs": [
    {
     "data": {
      "text/plain": [
       "<function __main__.bold_decorator.<locals>.actual_decorator.<locals>.wrapper()>"
      ]
     },
     "execution_count": 16,
     "metadata": {},
     "output_type": "execute_result"
    }
   ],
   "source": [
    "#decorators\n",
    "def bold_decorator():\n",
    "    def actual_decorator(func):\n",
    "        def wrapper():\n",
    "            return f'<b>{func()}</b>'\n",
    "        return wrapper\n",
    "    return actual_decorator(\"Hi\")\n",
    "bold_decorator()\n"
   ]
  },
  {
   "cell_type": "code",
   "execution_count": 17,
   "metadata": {},
   "outputs": [
    {
     "name": "stdout",
     "output_type": "stream",
     "text": [
      "before the function\n",
      "Hello!\n",
      "after the function\n"
     ]
    }
   ],
   "source": [
    "#decorators_2\n",
    "def my_decorator(func):\n",
    "    def wrapper():\n",
    "        print(\"before the function\")\n",
    "        func()\n",
    "        print(\"after the function\")\n",
    "    return wrapper\n",
    "\n",
    "@my_decorator\n",
    "def say_hello():\n",
    "    print(\"Hello!\")\n",
    "\n",
    "say_hello()\n",
    "\n",
    "#did not understand the execution of time function, will ask doubts in next lecture\n"
   ]
  },
  {
   "cell_type": "code",
   "execution_count": 2,
   "metadata": {},
   "outputs": [
    {
     "name": "stdout",
     "output_type": "stream",
     "text": [
      "Dog\n",
      "Dog : Woof\n",
      "Cat : Meow\n"
     ]
    }
   ],
   "source": [
    "#class Vehicle():\n",
    " #   def __init__(self):\n",
    "  #      self.color = \"white\"\n",
    "   #     self.model = None\n",
    "    #truck = vehicle()\n",
    "    #truck.color()\n",
    "\n",
    "\n",
    "class Animal:\n",
    "    def __init__(self, name):\n",
    "        self.name = name                #Instance variable\n",
    "\n",
    "dog = Animal(\"Dog\")                     #creating object of class\n",
    "print(dog.name)  \n",
    "\n",
    "#Inheritance\n",
    "class Dog(Animal):\n",
    "    def speak(self):\n",
    "        return \"Woof\"\n",
    "\n",
    "class Cat(Animal):\n",
    "    def speak(self):\n",
    "        return \"Meow\"\n",
    "\n",
    "dog = Dog(\"Dog\")\n",
    "cat = Cat(\"Cat\")\n",
    "\n",
    "print(dog.name, \":\", dog.speak())  \n",
    "print(cat.name, \":\", cat.speak())  \n",
    "\n",
    "        "
   ]
  }
 ],
 "metadata": {
  "kernelspec": {
   "display_name": "Python 3",
   "language": "python",
   "name": "python3"
  },
  "language_info": {
   "codemirror_mode": {
    "name": "ipython",
    "version": 3
   },
   "file_extension": ".py",
   "mimetype": "text/x-python",
   "name": "python",
   "nbconvert_exporter": "python",
   "pygments_lexer": "ipython3",
   "version": "3.12.4"
  }
 },
 "nbformat": 4,
 "nbformat_minor": 2
}
