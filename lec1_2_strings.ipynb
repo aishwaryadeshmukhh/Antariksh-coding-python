{
 "cells": [
  {
   "cell_type": "code",
   "execution_count": 1,
   "metadata": {},
   "outputs": [
    {
     "name": "stdout",
     "output_type": "stream",
     "text": [
      "M\n",
      "My\n",
      "my name is jeff\n",
      "MY NAME IS JEFF\n",
      "My Name Is Jeff\n",
      "['My', 'name', 'is', 'jeff']\n",
      "['My ', ' is jeff']\n"
     ]
    }
   ],
   "source": [
    "intro = \"My name is jeff\"\n",
    "\n",
    "print(intro[0])     #prints first index of given string i.e 'M'\n",
    "print(intro[0:2])       #prints first two letter [first index:end index+1]\n",
    "\n",
    "print(intro.lower()) # prints 'my name is jeff!'\n",
    "print(intro.upper()) # prints 'MY NAME IS JEFF!'\n",
    "print(intro.title()) # prints 'My Name Is Jeff!'\n",
    "\n",
    "print(intro.split())    #splits the given string into individual components\n",
    "print(intro.split('name')) #skips display the given element\n",
    "\n"
   ]
  },
  {
   "cell_type": "code",
   "execution_count": 10,
   "metadata": {},
   "outputs": [
    {
     "name": "stdout",
     "output_type": "stream",
     "text": [
      "Output: Hello!!!World!!!!!\n"
     ]
    }
   ],
   "source": [
    "#STRING_CONCATENATION\n",
    "\n",
    "# Using the + operator\n",
    "greeting = \"Hello\"\n",
    "name = \"World\"\n",
    "message = greeting + \"!!!\" + name + \"!!!!!\"\n",
    "print(\"Output:\", message)\n"
   ]
  },
  {
   "cell_type": "code",
   "execution_count": 8,
   "metadata": {},
   "outputs": [
    {
     "name": "stdout",
     "output_type": "stream",
     "text": [
      "Output: Hello!!! World!\n"
     ]
    }
   ],
   "source": [
    "\n",
    "#Using the format() method\n",
    "greeting = \"Hello\"\n",
    "name = \"World\"\n",
    "message = \"{}!!! {}!\".format(greeting, name)        #{}directs to bracket values for display, format method concatenates\n",
    "print(\"Output:\", message)"
   ]
  },
  {
   "cell_type": "code",
   "execution_count": 6,
   "metadata": {},
   "outputs": [
    {
     "name": "stdout",
     "output_type": "stream",
     "text": [
      "Output : Hello! World!!\n"
     ]
    }
   ],
   "source": [
    "\n",
    "# Using string formatting with %\n",
    "greeting = \"Hello\"\n",
    "name = \"World\"\n",
    "message = \"%s! %s!!\" % (greeting, name)      #here the first two instances of %s direct to the bracket values for display and last % joins \n",
    "print(\"Output :\", message)\n"
   ]
  },
  {
   "cell_type": "code",
   "execution_count": 3,
   "metadata": {},
   "outputs": [
    {
     "name": "stdout",
     "output_type": "stream",
     "text": [
      "Output: Hello!!!World!\n"
     ]
    }
   ],
   "source": [
    "# Using the join() method\n",
    "words = [\"Hello\", \"World\", \"!\"]\n",
    "message = \"!!!\".join(words[:2]) + words[2]      #concatenates the given string literal using join method\n",
    "print(\"Output:\", message)                       #join(words[:2]) signifies start of sentence --> index2\n"
   ]
  },
  {
   "cell_type": "code",
   "execution_count": 9,
   "metadata": {},
   "outputs": [
    {
     "name": "stdout",
     "output_type": "stream",
     "text": [
      "Using f-strings: Hello!!!!! World!!!\n"
     ]
    }
   ],
   "source": [
    "\n",
    "# Using f-strings (formatted string literals)\n",
    "greeting = \"Hello\"\n",
    "name = \"World\"\n",
    "message = f\"{greeting}!!!!! {name}!!!\"\n",
    "print(\"Using f-strings:\", message)"
   ]
  }
 ],
 "metadata": {
  "kernelspec": {
   "display_name": "Python 3",
   "language": "python",
   "name": "python3"
  },
  "language_info": {
   "codemirror_mode": {
    "name": "ipython",
    "version": 3
   },
   "file_extension": ".py",
   "mimetype": "text/x-python",
   "name": "python",
   "nbconvert_exporter": "python",
   "pygments_lexer": "ipython3",
   "version": "3.12.4"
  }
 },
 "nbformat": 4,
 "nbformat_minor": 2
}
