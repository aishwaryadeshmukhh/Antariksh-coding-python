{
 "cells": [
  {
   "cell_type": "code",
   "execution_count": 7,
   "metadata": {},
   "outputs": [
    {
     "name": "stdout",
     "output_type": "stream",
     "text": [
      "abc\n",
      "[62, ['g', 'h', 'i']]\n",
      "6\n",
      "['abc', 123, 'def', 62, ['g', 'h', 'i']]\n",
      "['abc', 123, 'def', 62, ['g', 'h', 'i'], 99]\n",
      "Modified list: ['blueberry', 'def', 62, ['g', 'h', 'i']]\n",
      "Modified list : [0, 1, 4, 9, 16]\n",
      "Sorted list: [1, 2, 2, 3, 5, 9]\n",
      "Reversed list: [9, 5, 3, 2, 2, 1]\n"
     ]
    }
   ],
   "source": [
    "#lists in python\n",
    "\n",
    "lst = ['abc', 123, 'def', 10.5, 62, ['g', 'h', 'i']] #here last sub list counted as one element\n",
    "\n",
    "print(lst[0])       #prints element at 0th index, i.e abc\n",
    "print(lst[4:6])\n",
    "print(len(lst))     #prints number of elements in list\n",
    "\n",
    "lst.remove(10.5)\n",
    "print(lst)          #removes 10.5 from lst\n",
    "\n",
    "lst.append(99)\n",
    "print(lst)          #appends 99 at end of lst\n",
    "\n",
    "lst.pop()           #when no index mentioned removes last element\n",
    "lst.pop(0)          #removes abc (0th index)\n",
    "\n",
    "#Modifying elements\n",
    "lst[0] = \"blueberry\"\n",
    "print(\"Modified list:\", lst)\n",
    "\n",
    "# List comprehension\n",
    "squared_numbers = [x**2 for x in range(5)]      #x goes from 0 to (5-1)=4 and each element gets squared\n",
    "print(\"Modified list :\", squared_numbers)\n",
    "\n",
    "# Sorting a list\n",
    "lst2 = [5,2,1,3,2,9]\n",
    "lst2.sort()\n",
    "print(\"Sorted list:\", lst2)\n",
    "\n",
    "# Reversing a list\n",
    "lst2.reverse()\n",
    "print(\"Reversed list:\", lst2)"
   ]
  },
  {
   "cell_type": "code",
   "execution_count": 9,
   "metadata": {},
   "outputs": [
    {
     "name": "stdout",
     "output_type": "stream",
     "text": [
      "0\n",
      "Sliced tuple: (123, 'def')\n",
      "Nested tuple: (('a', 'b', 'c'), (1, 2, 3))\n",
      "Accessing nested tuple element: 2\n",
      "Sorted tuple: (1, 2, 3, 6, 7, 8, 93)\n"
     ]
    }
   ],
   "source": [
    "#TUPLES\n",
    "\n",
    "my_tuple = ('abc', 123, 'def', 456)\n",
    "print(my_tuple.index('abc')) # returns 0\n",
    "\n",
    "#my_tuple[2] = 'child' is not possible because element modification is not allowed in tuples\n",
    "#they are immutable\n",
    "\n",
    "# Slicing a tuple\n",
    "tuple2 = my_tuple[1:3]\n",
    "print(\"Sliced tuple:\", tuple2)\n",
    "\n",
    "# Nested tuples\n",
    "nested_tuple = ((\"a\", \"b\", \"c\"), (1, 2, 3))\n",
    "print(\"Nested tuple:\", nested_tuple)\n",
    "print(\"Accessing nested tuple element:\", nested_tuple[1][1])        #resembles 2-D array in java\n",
    "\n",
    "#Sorting a tuple (Tuples are immutable, so we need to convert it to a list first)\n",
    "my_tuple3 = (93,7,1,2,8,3,6)\n",
    "sorted_tuple = tuple(sorted(my_tuple3))\n",
    "print(\"Sorted tuple:\", sorted_tuple)\n",
    "\n",
    "\n"
   ]
  },
  {
   "cell_type": "code",
   "execution_count": null,
   "metadata": {},
   "outputs": [],
   "source": [
    "\n",
    "student = {\n",
    "    \"name\": \"John Doe\",\n",
    "    \"age\": 21,\n",
    "    \"courses\": [\"Math\", \"Physics\"]\n",
    "}\n",
    "print(\"Initial dictionary:\", student)\n",
    "\n",
    "# Accessing values\n",
    "print(\"Name:\", student[\"name\"])\n",
    "print(\"Age:\", student[\"age\"])\n",
    "\n",
    "# Adding a new pair\n",
    "student[\"grade\"] = \"A\"\n",
    "print(\"After adding grade:\", student)\n",
    "\n",
    "# Updating\n",
    "student[\"age\"] = 22\n",
    "print(student)\n",
    "\n",
    "# Removing elements\n",
    "grade = student.pop(\"grade\")\n",
    "print(\"After removing grade:\", student)\n",
    "print(\"Removed grade:\", grade)\n",
    "\n",
    "# Checking for element \n",
    "if \"name\" in student:\n",
    "    print(\"Name key exists in the dictionary\")\n",
    "\n",
    "# Iterating over elements\n",
    "print(\"Keys in dictionary:\")\n",
    "for key in student:\n",
    "    print(key)\n",
    "\n",
    "#\n"
   ]
  }
 ],
 "metadata": {
  "kernelspec": {
   "display_name": "Python 3",
   "language": "python",
   "name": "python3"
  },
  "language_info": {
   "codemirror_mode": {
    "name": "ipython",
    "version": 3
   },
   "file_extension": ".py",
   "mimetype": "text/x-python",
   "name": "python",
   "nbconvert_exporter": "python",
   "pygments_lexer": "ipython3",
   "version": "3.12.4"
  }
 },
 "nbformat": 4,
 "nbformat_minor": 2
}
